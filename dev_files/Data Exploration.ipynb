{
 "cells": [
  {
   "cell_type": "markdown",
   "metadata": {},
   "source": [
    "# Setup and Data Collection"
   ]
  },
  {
   "cell_type": "code",
   "execution_count": 37,
   "metadata": {},
   "outputs": [],
   "source": [
    "# Dependencies\n",
    "# ----------------------------------\n",
    "# Imports the method used for connecting to DBs\n",
    "from sqlalchemy import create_engine\n",
    "\n",
    "# Imports the methods needed to abstract classes into tables\n",
    "from sqlalchemy.ext.declarative import declarative_base\n",
    "\n",
    "# Allow us to declare column types\n",
    "from sqlalchemy import Column, Integer, String, Float \n",
    "\n",
    "\n",
    "import psycopg2 as pg\n",
    "import numpy as np\n",
    "import pandas as pd\n",
    "\n",
    "import sys\n",
    "sys.path.append(\"..\")\n",
    "from cred.cred_user import username\n",
    "from cred.cred_p import pgpass\n",
    "from cred.cred_host import host_loc\n",
    "from cred.cred_port import cred_port\n",
    "\n",
    "db = \"Proj_ETL\"\n"
   ]
  },
  {
   "cell_type": "code",
   "execution_count": 2,
   "metadata": {
    "scrolled": true
   },
   "outputs": [
    {
     "data": {
      "text/html": [
       "<div>\n",
       "<style scoped>\n",
       "    .dataframe tbody tr th:only-of-type {\n",
       "        vertical-align: middle;\n",
       "    }\n",
       "\n",
       "    .dataframe tbody tr th {\n",
       "        vertical-align: top;\n",
       "    }\n",
       "\n",
       "    .dataframe thead th {\n",
       "        text-align: right;\n",
       "    }\n",
       "</style>\n",
       "<table border=\"1\" class=\"dataframe\">\n",
       "  <thead>\n",
       "    <tr style=\"text-align: right;\">\n",
       "      <th></th>\n",
       "      <th>Unnamed: 0</th>\n",
       "      <th>citation_abstract</th>\n",
       "      <th>citation_author</th>\n",
       "      <th>citation_author_email</th>\n",
       "      <th>citation_author_institution</th>\n",
       "      <th>citation_date</th>\n",
       "      <th>citation_doi</th>\n",
       "      <th>citation_issn</th>\n",
       "      <th>citation_journal_abbrev</th>\n",
       "      <th>citation_journal_title</th>\n",
       "      <th>...</th>\n",
       "      <th>citation_publisher</th>\n",
       "      <th>citation_title</th>\n",
       "      <th>citation_volume</th>\n",
       "      <th>dc.identifier</th>\n",
       "      <th>description</th>\n",
       "      <th>img</th>\n",
       "      <th>keywords</th>\n",
       "      <th>text</th>\n",
       "      <th>title</th>\n",
       "      <th>url</th>\n",
       "    </tr>\n",
       "  </thead>\n",
       "  <tbody>\n",
       "    <tr>\n",
       "      <th>0</th>\n",
       "      <td>0</td>\n",
       "      <td>The peripheral nervous system has an intrinsic...</td>\n",
       "      <td>Offen, Daniel</td>\n",
       "      <td>danioffen@gmail.com</td>\n",
       "      <td>Sackler Faculty of Medicine, Tel Aviv Universi...</td>\n",
       "      <td>2019.0</td>\n",
       "      <td>10.3389/fnins.2019.00151</td>\n",
       "      <td>1662-453X</td>\n",
       "      <td>Front. Neurosci.</td>\n",
       "      <td>Frontiers in Neuroscience</td>\n",
       "      <td>...</td>\n",
       "      <td>Frontiers</td>\n",
       "      <td>HUMAN MUSCLE PROGENITOR CELLS OVEREXPRESSING N...</td>\n",
       "      <td>13.0</td>\n",
       "      <td>NaN</td>\n",
       "      <td>The peripheral nervous system has an intrinsic...</td>\n",
       "      <td>https://www.frontiersin.org/files/MyHome%20Art...</td>\n",
       "      <td>Human muscle progenitor cells; Neurotrophic fa...</td>\n",
       "      <td>HUMAN MUSCLE PROGENITOR CELLS OVEREXPRESSING N...</td>\n",
       "      <td>HUMAN MUSCLE PROGENITOR CELLS OVEREXPRESSING N...</td>\n",
       "      <td>https://www.frontiersin.org/articles/10.3389/f...</td>\n",
       "    </tr>\n",
       "    <tr>\n",
       "      <th>1</th>\n",
       "      <td>1</td>\n",
       "      <td>In this study, we explore the functional role ...</td>\n",
       "      <td>Molkov, Yaroslav I.</td>\n",
       "      <td>NaN</td>\n",
       "      <td>Department of Mathematics and Statistics, Geor...</td>\n",
       "      <td>2019.0</td>\n",
       "      <td>10.3389/fncir.2019.00010</td>\n",
       "      <td>1662-5110</td>\n",
       "      <td>Front. Neural Circuits</td>\n",
       "      <td>Frontiers in Neural Circuits</td>\n",
       "      <td>...</td>\n",
       "      <td>Frontiers</td>\n",
       "      <td>The Functional Role of Striatal Cholinergic In...</td>\n",
       "      <td>13.0</td>\n",
       "      <td>doi:10.3389/fncir.2019.00010</td>\n",
       "      <td>In this study, we explore the functional role ...</td>\n",
       "      <td>https://www.frontiersin.org/files/MyHome%20Art...</td>\n",
       "      <td>Striatum; Basal Ganglia; Reinforcement   Learn...</td>\n",
       "      <td>In this study, we explore the functional role ...</td>\n",
       "      <td>The Functional Role of Striatal Cholinergic In...</td>\n",
       "      <td>https://www.frontiersin.org/articles/10.3389/f...</td>\n",
       "    </tr>\n",
       "    <tr>\n",
       "      <th>2</th>\n",
       "      <td>2</td>\n",
       "      <td>Recent studies clearly indicate that endocrine...</td>\n",
       "      <td>Herman-Antosiewicz, Anna</td>\n",
       "      <td>anna.herman@biol.ug.edu.pl</td>\n",
       "      <td>University of Gdansk, Gdansk, 80-952, Pomerani...</td>\n",
       "      <td>2019.0</td>\n",
       "      <td>10.3389/fnins.2019.00165</td>\n",
       "      <td>1662-453X</td>\n",
       "      <td>Front. Neurosci.</td>\n",
       "      <td>Frontiers in Neuroscience</td>\n",
       "      <td>...</td>\n",
       "      <td>Frontiers</td>\n",
       "      <td>Iron Metabolism of the Skeletal Muscle and Neu...</td>\n",
       "      <td>13.0</td>\n",
       "      <td>NaN</td>\n",
       "      <td>Recent studies clearly indicate that endocrine...</td>\n",
       "      <td>https://www.frontiersin.org/files/MyHome%20Art...</td>\n",
       "      <td>myokine, ; Iron,; ALS, amyotrophic lateral scl...</td>\n",
       "      <td>Iron Metabolism of the Skeletal Muscle and Neu...</td>\n",
       "      <td>Iron Metabolism of the Skeletal Muscle and Neu...</td>\n",
       "      <td>https://www.frontiersin.org/articles/10.3389/f...</td>\n",
       "    </tr>\n",
       "    <tr>\n",
       "      <th>3</th>\n",
       "      <td>3</td>\n",
       "      <td>Emerging neuroimaging studies emphasize the dy...</td>\n",
       "      <td>Wang, Zheng</td>\n",
       "      <td>zheng.wang@ion.ac.cn</td>\n",
       "      <td>Institute of Neuroscience, Shanghai Institutes...</td>\n",
       "      <td>2019.0</td>\n",
       "      <td>10.3389/fnins.2019.00174</td>\n",
       "      <td>1662-453X</td>\n",
       "      <td>Front. Neurosci.</td>\n",
       "      <td>Frontiers in Neuroscience</td>\n",
       "      <td>...</td>\n",
       "      <td>Frontiers</td>\n",
       "      <td>Brain Map of Intrinsic Functional Flexibility ...</td>\n",
       "      <td>13.0</td>\n",
       "      <td>NaN</td>\n",
       "      <td>Emerging neuroimaging studies emphasize the dy...</td>\n",
       "      <td>https://www.frontiersin.org/files/MyHome%20Art...</td>\n",
       "      <td>dynamic brain organization; intrinsic function...</td>\n",
       "      <td>Brain Map of Intrinsic Functional Flexibility ...</td>\n",
       "      <td>Brain Map of Intrinsic Functional Flexibility ...</td>\n",
       "      <td>https://www.frontiersin.org/articles/10.3389/f...</td>\n",
       "    </tr>\n",
       "    <tr>\n",
       "      <th>4</th>\n",
       "      <td>4</td>\n",
       "      <td>The disruption of iron metabolism and iron tra...</td>\n",
       "      <td>So, Po-Wah</td>\n",
       "      <td>Po-wah.so@kcl.ac.uk</td>\n",
       "      <td>King's College London, London, WC2R 2LS, Unite...</td>\n",
       "      <td>2019.0</td>\n",
       "      <td>10.3389/fnins.2019.00181</td>\n",
       "      <td>1662-453X</td>\n",
       "      <td>Front. Neurosci.</td>\n",
       "      <td>Frontiers in Neuroscience</td>\n",
       "      <td>...</td>\n",
       "      <td>Frontiers</td>\n",
       "      <td>Low CSF melanotransferrin is associated with c...</td>\n",
       "      <td>13.0</td>\n",
       "      <td>NaN</td>\n",
       "      <td>The disruption of iron metabolism and iron tra...</td>\n",
       "      <td>https://www.frontiersin.org/files/MyHome%20Art...</td>\n",
       "      <td>Alzheimer’s disease; CSF; Iron; MCI; Melanotra...</td>\n",
       "      <td>Low CSF melanotransferrin is associated with c...</td>\n",
       "      <td>Low CSF melanotransferrin is associated with c...</td>\n",
       "      <td>https://www.frontiersin.org/articles/10.3389/f...</td>\n",
       "    </tr>\n",
       "  </tbody>\n",
       "</table>\n",
       "<p>5 rows × 26 columns</p>\n",
       "</div>"
      ],
      "text/plain": [
       "   Unnamed: 0                                  citation_abstract  \\\n",
       "0           0  The peripheral nervous system has an intrinsic...   \n",
       "1           1  In this study, we explore the functional role ...   \n",
       "2           2  Recent studies clearly indicate that endocrine...   \n",
       "3           3  Emerging neuroimaging studies emphasize the dy...   \n",
       "4           4  The disruption of iron metabolism and iron tra...   \n",
       "\n",
       "            citation_author       citation_author_email  \\\n",
       "0             Offen, Daniel         danioffen@gmail.com   \n",
       "1       Molkov, Yaroslav I.                         NaN   \n",
       "2  Herman-Antosiewicz, Anna  anna.herman@biol.ug.edu.pl   \n",
       "3               Wang, Zheng        zheng.wang@ion.ac.cn   \n",
       "4                So, Po-Wah         Po-wah.so@kcl.ac.uk   \n",
       "\n",
       "                         citation_author_institution  citation_date  \\\n",
       "0  Sackler Faculty of Medicine, Tel Aviv Universi...         2019.0   \n",
       "1  Department of Mathematics and Statistics, Geor...         2019.0   \n",
       "2  University of Gdansk, Gdansk, 80-952, Pomerani...         2019.0   \n",
       "3  Institute of Neuroscience, Shanghai Institutes...         2019.0   \n",
       "4  King's College London, London, WC2R 2LS, Unite...         2019.0   \n",
       "\n",
       "               citation_doi citation_issn citation_journal_abbrev  \\\n",
       "0  10.3389/fnins.2019.00151     1662-453X        Front. Neurosci.   \n",
       "1  10.3389/fncir.2019.00010     1662-5110  Front. Neural Circuits   \n",
       "2  10.3389/fnins.2019.00165     1662-453X        Front. Neurosci.   \n",
       "3  10.3389/fnins.2019.00174     1662-453X        Front. Neurosci.   \n",
       "4  10.3389/fnins.2019.00181     1662-453X        Front. Neurosci.   \n",
       "\n",
       "         citation_journal_title  ... citation_publisher  \\\n",
       "0     Frontiers in Neuroscience  ...          Frontiers   \n",
       "1  Frontiers in Neural Circuits  ...          Frontiers   \n",
       "2     Frontiers in Neuroscience  ...          Frontiers   \n",
       "3     Frontiers in Neuroscience  ...          Frontiers   \n",
       "4     Frontiers in Neuroscience  ...          Frontiers   \n",
       "\n",
       "                                      citation_title citation_volume  \\\n",
       "0  HUMAN MUSCLE PROGENITOR CELLS OVEREXPRESSING N...            13.0   \n",
       "1  The Functional Role of Striatal Cholinergic In...            13.0   \n",
       "2  Iron Metabolism of the Skeletal Muscle and Neu...            13.0   \n",
       "3  Brain Map of Intrinsic Functional Flexibility ...            13.0   \n",
       "4  Low CSF melanotransferrin is associated with c...            13.0   \n",
       "\n",
       "                  dc.identifier  \\\n",
       "0                           NaN   \n",
       "1  doi:10.3389/fncir.2019.00010   \n",
       "2                           NaN   \n",
       "3                           NaN   \n",
       "4                           NaN   \n",
       "\n",
       "                                         description  \\\n",
       "0  The peripheral nervous system has an intrinsic...   \n",
       "1  In this study, we explore the functional role ...   \n",
       "2  Recent studies clearly indicate that endocrine...   \n",
       "3  Emerging neuroimaging studies emphasize the dy...   \n",
       "4  The disruption of iron metabolism and iron tra...   \n",
       "\n",
       "                                                 img  \\\n",
       "0  https://www.frontiersin.org/files/MyHome%20Art...   \n",
       "1  https://www.frontiersin.org/files/MyHome%20Art...   \n",
       "2  https://www.frontiersin.org/files/MyHome%20Art...   \n",
       "3  https://www.frontiersin.org/files/MyHome%20Art...   \n",
       "4  https://www.frontiersin.org/files/MyHome%20Art...   \n",
       "\n",
       "                                            keywords  \\\n",
       "0  Human muscle progenitor cells; Neurotrophic fa...   \n",
       "1  Striatum; Basal Ganglia; Reinforcement   Learn...   \n",
       "2  myokine, ; Iron,; ALS, amyotrophic lateral scl...   \n",
       "3  dynamic brain organization; intrinsic function...   \n",
       "4  Alzheimer’s disease; CSF; Iron; MCI; Melanotra...   \n",
       "\n",
       "                                                text  \\\n",
       "0  HUMAN MUSCLE PROGENITOR CELLS OVEREXPRESSING N...   \n",
       "1  In this study, we explore the functional role ...   \n",
       "2  Iron Metabolism of the Skeletal Muscle and Neu...   \n",
       "3  Brain Map of Intrinsic Functional Flexibility ...   \n",
       "4  Low CSF melanotransferrin is associated with c...   \n",
       "\n",
       "                                               title  \\\n",
       "0  HUMAN MUSCLE PROGENITOR CELLS OVEREXPRESSING N...   \n",
       "1  The Functional Role of Striatal Cholinergic In...   \n",
       "2  Iron Metabolism of the Skeletal Muscle and Neu...   \n",
       "3  Brain Map of Intrinsic Functional Flexibility ...   \n",
       "4  Low CSF melanotransferrin is associated with c...   \n",
       "\n",
       "                                                 url  \n",
       "0  https://www.frontiersin.org/articles/10.3389/f...  \n",
       "1  https://www.frontiersin.org/articles/10.3389/f...  \n",
       "2  https://www.frontiersin.org/articles/10.3389/f...  \n",
       "3  https://www.frontiersin.org/articles/10.3389/f...  \n",
       "4  https://www.frontiersin.org/articles/10.3389/f...  \n",
       "\n",
       "[5 rows x 26 columns]"
      ]
     },
     "execution_count": 2,
     "metadata": {},
     "output_type": "execute_result"
    }
   ],
   "source": [
    "neuro_data = \"../data_large/Neuroscience_Data.csv\"\n",
    "neuro_df = pd.read_csv(neuro_data)\n",
    "neuro_df.head()"
   ]
  },
  {
   "cell_type": "code",
   "execution_count": 5,
   "metadata": {},
   "outputs": [
    {
     "data": {
      "text/html": [
       "<div>\n",
       "<style scoped>\n",
       "    .dataframe tbody tr th:only-of-type {\n",
       "        vertical-align: middle;\n",
       "    }\n",
       "\n",
       "    .dataframe tbody tr th {\n",
       "        vertical-align: top;\n",
       "    }\n",
       "\n",
       "    .dataframe thead th {\n",
       "        text-align: right;\n",
       "    }\n",
       "</style>\n",
       "<table border=\"1\" class=\"dataframe\">\n",
       "  <thead>\n",
       "    <tr style=\"text-align: right;\">\n",
       "      <th></th>\n",
       "      <th>Country; Year</th>\n",
       "      <th>Government expenditures on mental hospitals as a percentage of total government expenditures on mental health (%)</th>\n",
       "      <th>Stand-alone law for mental health</th>\n",
       "      <th>Year the law was enacted (latest revision)</th>\n",
       "      <th>Stand-alone policy or plan for mental health</th>\n",
       "      <th>Publication year of the policy or plan (latest revision)</th>\n",
       "    </tr>\n",
       "  </thead>\n",
       "  <tbody>\n",
       "    <tr>\n",
       "      <th>0</th>\n",
       "      <td>Afghanistan; 2016</td>\n",
       "      <td>NaN</td>\n",
       "      <td>Yes</td>\n",
       "      <td>1987</td>\n",
       "      <td>Yes</td>\n",
       "      <td>2016.0</td>\n",
       "    </tr>\n",
       "    <tr>\n",
       "      <th>1</th>\n",
       "      <td>Afghanistan; 2014</td>\n",
       "      <td>NaN</td>\n",
       "      <td>Yes</td>\n",
       "      <td>NaN</td>\n",
       "      <td>Yes</td>\n",
       "      <td>NaN</td>\n",
       "    </tr>\n",
       "    <tr>\n",
       "      <th>2</th>\n",
       "      <td>Albania; 2016</td>\n",
       "      <td>NaN</td>\n",
       "      <td>Yes</td>\n",
       "      <td>2012</td>\n",
       "      <td>Yes</td>\n",
       "      <td>2013.0</td>\n",
       "    </tr>\n",
       "    <tr>\n",
       "      <th>3</th>\n",
       "      <td>Albania; 2014</td>\n",
       "      <td>NaN</td>\n",
       "      <td>Yes</td>\n",
       "      <td>NaN</td>\n",
       "      <td>Yes</td>\n",
       "      <td>NaN</td>\n",
       "    </tr>\n",
       "    <tr>\n",
       "      <th>4</th>\n",
       "      <td>Algeria; 2016</td>\n",
       "      <td>NaN</td>\n",
       "      <td>Yes</td>\n",
       "      <td>1905</td>\n",
       "      <td>No</td>\n",
       "      <td>NaN</td>\n",
       "    </tr>\n",
       "  </tbody>\n",
       "</table>\n",
       "</div>"
      ],
      "text/plain": [
       "       Country; Year  \\\n",
       "0  Afghanistan; 2016   \n",
       "1  Afghanistan; 2014   \n",
       "2      Albania; 2016   \n",
       "3      Albania; 2014   \n",
       "4      Algeria; 2016   \n",
       "\n",
       "   Government expenditures on mental hospitals as a percentage of total government expenditures on mental health (%)  \\\n",
       "0                                                NaN                                                                   \n",
       "1                                                NaN                                                                   \n",
       "2                                                NaN                                                                   \n",
       "3                                                NaN                                                                   \n",
       "4                                                NaN                                                                   \n",
       "\n",
       "  Stand-alone law for mental health  \\\n",
       "0                               Yes   \n",
       "1                               Yes   \n",
       "2                               Yes   \n",
       "3                               Yes   \n",
       "4                               Yes   \n",
       "\n",
       "  Year the law was enacted (latest revision)  \\\n",
       "0                                       1987   \n",
       "1                                        NaN   \n",
       "2                                       2012   \n",
       "3                                        NaN   \n",
       "4                                       1905   \n",
       "\n",
       "  Stand-alone policy or plan for mental health  \\\n",
       "0                                          Yes   \n",
       "1                                          Yes   \n",
       "2                                          Yes   \n",
       "3                                          Yes   \n",
       "4                                           No   \n",
       "\n",
       "   Publication year of the policy or plan (latest revision)  \n",
       "0                                             2016.0         \n",
       "1                                                NaN         \n",
       "2                                             2013.0         \n",
       "3                                                NaN         \n",
       "4                                                NaN         "
      ]
     },
     "execution_count": 5,
     "metadata": {},
     "output_type": "execute_result"
    }
   ],
   "source": [
    "mental_data = \"../data/Mental_Data.csv\"\n",
    "mental_df = pd.read_csv(mental_data)\n",
    "mental_df.head()"
   ]
  },
  {
   "cell_type": "markdown",
   "metadata": {},
   "source": [
    "## Exploring the Neuroscience Data"
   ]
  },
  {
   "cell_type": "code",
   "execution_count": 6,
   "metadata": {},
   "outputs": [
    {
     "data": {
      "text/html": [
       "<div>\n",
       "<style scoped>\n",
       "    .dataframe tbody tr th:only-of-type {\n",
       "        vertical-align: middle;\n",
       "    }\n",
       "\n",
       "    .dataframe tbody tr th {\n",
       "        vertical-align: top;\n",
       "    }\n",
       "\n",
       "    .dataframe thead th {\n",
       "        text-align: right;\n",
       "    }\n",
       "</style>\n",
       "<table border=\"1\" class=\"dataframe\">\n",
       "  <thead>\n",
       "    <tr style=\"text-align: right;\">\n",
       "      <th></th>\n",
       "      <th>Unnamed: 0</th>\n",
       "      <th>citation_abstract</th>\n",
       "      <th>citation_author</th>\n",
       "      <th>citation_author_email</th>\n",
       "      <th>citation_author_institution</th>\n",
       "      <th>citation_date</th>\n",
       "      <th>citation_doi</th>\n",
       "      <th>citation_issn</th>\n",
       "      <th>citation_journal_abbrev</th>\n",
       "      <th>citation_journal_title</th>\n",
       "      <th>...</th>\n",
       "      <th>citation_publisher</th>\n",
       "      <th>citation_title</th>\n",
       "      <th>citation_volume</th>\n",
       "      <th>dc.identifier</th>\n",
       "      <th>description</th>\n",
       "      <th>img</th>\n",
       "      <th>keywords</th>\n",
       "      <th>text</th>\n",
       "      <th>title</th>\n",
       "      <th>url</th>\n",
       "    </tr>\n",
       "  </thead>\n",
       "  <tbody>\n",
       "    <tr>\n",
       "      <th>0</th>\n",
       "      <td>0</td>\n",
       "      <td>The peripheral nervous system has an intrinsic...</td>\n",
       "      <td>Offen, Daniel</td>\n",
       "      <td>danioffen@gmail.com</td>\n",
       "      <td>Sackler Faculty of Medicine, Tel Aviv Universi...</td>\n",
       "      <td>2019.0</td>\n",
       "      <td>10.3389/fnins.2019.00151</td>\n",
       "      <td>1662-453X</td>\n",
       "      <td>Front. Neurosci.</td>\n",
       "      <td>Frontiers in Neuroscience</td>\n",
       "      <td>...</td>\n",
       "      <td>Frontiers</td>\n",
       "      <td>HUMAN MUSCLE PROGENITOR CELLS OVEREXPRESSING N...</td>\n",
       "      <td>13.0</td>\n",
       "      <td>NaN</td>\n",
       "      <td>The peripheral nervous system has an intrinsic...</td>\n",
       "      <td>https://www.frontiersin.org/files/MyHome%20Art...</td>\n",
       "      <td>Human muscle progenitor cells; Neurotrophic fa...</td>\n",
       "      <td>HUMAN MUSCLE PROGENITOR CELLS OVEREXPRESSING N...</td>\n",
       "      <td>HUMAN MUSCLE PROGENITOR CELLS OVEREXPRESSING N...</td>\n",
       "      <td>https://www.frontiersin.org/articles/10.3389/f...</td>\n",
       "    </tr>\n",
       "  </tbody>\n",
       "</table>\n",
       "<p>1 rows × 26 columns</p>\n",
       "</div>"
      ],
      "text/plain": [
       "   Unnamed: 0                                  citation_abstract  \\\n",
       "0           0  The peripheral nervous system has an intrinsic...   \n",
       "\n",
       "  citation_author citation_author_email  \\\n",
       "0   Offen, Daniel   danioffen@gmail.com   \n",
       "\n",
       "                         citation_author_institution  citation_date  \\\n",
       "0  Sackler Faculty of Medicine, Tel Aviv Universi...         2019.0   \n",
       "\n",
       "               citation_doi citation_issn citation_journal_abbrev  \\\n",
       "0  10.3389/fnins.2019.00151     1662-453X        Front. Neurosci.   \n",
       "\n",
       "      citation_journal_title  ... citation_publisher  \\\n",
       "0  Frontiers in Neuroscience  ...          Frontiers   \n",
       "\n",
       "                                      citation_title citation_volume  \\\n",
       "0  HUMAN MUSCLE PROGENITOR CELLS OVEREXPRESSING N...            13.0   \n",
       "\n",
       "   dc.identifier                                        description  \\\n",
       "0            NaN  The peripheral nervous system has an intrinsic...   \n",
       "\n",
       "                                                 img  \\\n",
       "0  https://www.frontiersin.org/files/MyHome%20Art...   \n",
       "\n",
       "                                            keywords  \\\n",
       "0  Human muscle progenitor cells; Neurotrophic fa...   \n",
       "\n",
       "                                                text  \\\n",
       "0  HUMAN MUSCLE PROGENITOR CELLS OVEREXPRESSING N...   \n",
       "\n",
       "                                               title  \\\n",
       "0  HUMAN MUSCLE PROGENITOR CELLS OVEREXPRESSING N...   \n",
       "\n",
       "                                                 url  \n",
       "0  https://www.frontiersin.org/articles/10.3389/f...  \n",
       "\n",
       "[1 rows x 26 columns]"
      ]
     },
     "execution_count": 6,
     "metadata": {},
     "output_type": "execute_result"
    }
   ],
   "source": [
    "neuro_df.head(1)"
   ]
  },
  {
   "cell_type": "code",
   "execution_count": 7,
   "metadata": {
    "scrolled": true
   },
   "outputs": [
    {
     "data": {
      "text/plain": [
       "Index(['Unnamed: 0', 'citation_abstract', 'citation_author',\n",
       "       'citation_author_email', 'citation_author_institution', 'citation_date',\n",
       "       'citation_doi', 'citation_issn', 'citation_journal_abbrev',\n",
       "       'citation_journal_title', 'citation_keywords', 'citation_language',\n",
       "       'citation_online_date', 'citation_pages', 'citation_pdf_url',\n",
       "       'citation_publication_date', 'citation_publisher', 'citation_title',\n",
       "       'citation_volume', 'dc.identifier', 'description', 'img', 'keywords',\n",
       "       'text', 'title', 'url'],\n",
       "      dtype='object')"
      ]
     },
     "execution_count": 7,
     "metadata": {},
     "output_type": "execute_result"
    }
   ],
   "source": [
    "neuro_df.columns"
   ]
  },
  {
   "cell_type": "code",
   "execution_count": 8,
   "metadata": {},
   "outputs": [
    {
     "data": {
      "text/plain": [
       "Frontiers in Human Neuroscience            5330\n",
       "Frontiers in Neuroscience                  4252\n",
       "Frontiers in Cellular Neuroscience         2719\n",
       "Frontiers in Computational Neuroscience    1120\n",
       "Frontiers in Neural Circuits                966\n",
       "Frontiers in Neuroanatomy                   953\n",
       "Frontiers in Neuroinformatics               500\n",
       "Frontiers in Neurorobotics                  277\n",
       "Frontiers in Neuroengineering               117\n",
       "Frontiers in Neuroenergetics                 63\n",
       "Frontiers in Artificial Intelligence          1\n",
       "Name: citation_journal_title, dtype: int64"
      ]
     },
     "execution_count": 8,
     "metadata": {},
     "output_type": "execute_result"
    }
   ],
   "source": [
    "neuro_df[\"citation_journal_title\"].value_counts()"
   ]
  },
  {
   "cell_type": "code",
   "execution_count": 9,
   "metadata": {},
   "outputs": [
    {
     "data": {
      "text/plain": [
       "2018.0    2530\n",
       "2014.0    2512\n",
       "2017.0    2349\n",
       "2015.0    2241\n",
       "2016.0    2106\n",
       "2013.0    2052\n",
       "2012.0     955\n",
       "2019.0     600\n",
       "2011.0     562\n",
       "2010.0     391\n",
       "Name: citation_date, dtype: int64"
      ]
     },
     "execution_count": 9,
     "metadata": {},
     "output_type": "execute_result"
    }
   ],
   "source": [
    "neuro_df[\"citation_date\"].value_counts()"
   ]
  },
  {
   "cell_type": "code",
   "execution_count": 10,
   "metadata": {},
   "outputs": [
    {
     "data": {
      "text/plain": [
       "Center for Collaboration and Innovation in Brain and Learning Sciences, Beijing Normal University, Beijing, China    14\n",
       "University College London, London, United Kingdom                                                                    10\n",
       "Institute of Neuroinformatics, University of Zurich and ETH Zurich, Zurich, Switzerland                              10\n",
       "Institute for Human Movement and Medical Sciences, Niigata University of Health and Welfare, Niigata, Japan           8\n",
       "Center for Behavioral Brain Sciences, Magdeburg, Germany                                                              8\n",
       "Name: citation_author_institution, dtype: int64"
      ]
     },
     "execution_count": 10,
     "metadata": {},
     "output_type": "execute_result"
    }
   ],
   "source": [
    "neuro_df[\"citation_author_institution\"].value_counts().head()"
   ]
  },
  {
   "cell_type": "code",
   "execution_count": null,
   "metadata": {},
   "outputs": [],
   "source": []
  },
  {
   "cell_type": "code",
   "execution_count": null,
   "metadata": {},
   "outputs": [],
   "source": []
  },
  {
   "cell_type": "code",
   "execution_count": null,
   "metadata": {},
   "outputs": [],
   "source": []
  },
  {
   "cell_type": "markdown",
   "metadata": {},
   "source": [
    "## Exploring the Mental Health Policy Data"
   ]
  },
  {
   "cell_type": "code",
   "execution_count": 11,
   "metadata": {},
   "outputs": [
    {
     "data": {
      "text/html": [
       "<div>\n",
       "<style scoped>\n",
       "    .dataframe tbody tr th:only-of-type {\n",
       "        vertical-align: middle;\n",
       "    }\n",
       "\n",
       "    .dataframe tbody tr th {\n",
       "        vertical-align: top;\n",
       "    }\n",
       "\n",
       "    .dataframe thead th {\n",
       "        text-align: right;\n",
       "    }\n",
       "</style>\n",
       "<table border=\"1\" class=\"dataframe\">\n",
       "  <thead>\n",
       "    <tr style=\"text-align: right;\">\n",
       "      <th></th>\n",
       "      <th>Country; Year</th>\n",
       "      <th>Government expenditures on mental hospitals as a percentage of total government expenditures on mental health (%)</th>\n",
       "      <th>Stand-alone law for mental health</th>\n",
       "      <th>Year the law was enacted (latest revision)</th>\n",
       "      <th>Stand-alone policy or plan for mental health</th>\n",
       "      <th>Publication year of the policy or plan (latest revision)</th>\n",
       "    </tr>\n",
       "  </thead>\n",
       "  <tbody>\n",
       "    <tr>\n",
       "      <th>0</th>\n",
       "      <td>Afghanistan; 2016</td>\n",
       "      <td>NaN</td>\n",
       "      <td>Yes</td>\n",
       "      <td>1987</td>\n",
       "      <td>Yes</td>\n",
       "      <td>2016.0</td>\n",
       "    </tr>\n",
       "  </tbody>\n",
       "</table>\n",
       "</div>"
      ],
      "text/plain": [
       "       Country; Year  \\\n",
       "0  Afghanistan; 2016   \n",
       "\n",
       "   Government expenditures on mental hospitals as a percentage of total government expenditures on mental health (%)  \\\n",
       "0                                                NaN                                                                   \n",
       "\n",
       "  Stand-alone law for mental health  \\\n",
       "0                               Yes   \n",
       "\n",
       "  Year the law was enacted (latest revision)  \\\n",
       "0                                       1987   \n",
       "\n",
       "  Stand-alone policy or plan for mental health  \\\n",
       "0                                          Yes   \n",
       "\n",
       "   Publication year of the policy or plan (latest revision)  \n",
       "0                                             2016.0         "
      ]
     },
     "execution_count": 11,
     "metadata": {},
     "output_type": "execute_result"
    }
   ],
   "source": [
    "mental_df.head(1)"
   ]
  },
  {
   "cell_type": "code",
   "execution_count": 12,
   "metadata": {},
   "outputs": [
    {
     "data": {
      "text/plain": [
       "Yes      208\n",
       "No       126\n",
       "Yes        2\n",
       "yes        1\n",
       "No No      1\n",
       "2018       1\n",
       "No         1\n",
       "Name: Stand-alone law for mental health, dtype: int64"
      ]
     },
     "execution_count": 12,
     "metadata": {},
     "output_type": "execute_result"
    }
   ],
   "source": [
    "mental_df[\"Stand-alone law for mental health\"].value_counts()"
   ]
  },
  {
   "cell_type": "code",
   "execution_count": 13,
   "metadata": {},
   "outputs": [
    {
     "data": {
      "text/plain": [
       "Yes        268\n",
       "No          73\n",
       "YES          1\n",
       "Yes Yes      1\n",
       "Name: Stand-alone policy or plan for mental health, dtype: int64"
      ]
     },
     "execution_count": 13,
     "metadata": {},
     "output_type": "execute_result"
    }
   ],
   "source": [
    "mental_df[\"Stand-alone policy or plan for mental health\"].value_counts()"
   ]
  },
  {
   "cell_type": "code",
   "execution_count": 14,
   "metadata": {},
   "outputs": [
    {
     "data": {
      "text/plain": [
       "2016.0    30\n",
       "2013.0    16\n",
       "2015.0    16\n",
       "2014.0    15\n",
       "2012.0    13\n",
       "2017.0    13\n",
       "2011.0    10\n",
       "2008.0     3\n",
       "2004.0     3\n",
       "2009.0     3\n",
       "2006.0     3\n",
       "2007.0     2\n",
       "2003.0     2\n",
       "2002.0     1\n",
       "1998.0     1\n",
       "2005.0     1\n",
       "1971.0     1\n",
       "2010.0     1\n",
       "1996.0     1\n",
       "1993.0     1\n",
       "1978.0     1\n",
       "2001.0     1\n",
       "Name: Publication year of the policy or plan (latest revision), dtype: int64"
      ]
     },
     "execution_count": 14,
     "metadata": {},
     "output_type": "execute_result"
    }
   ],
   "source": [
    "mental_df[\"Publication year of the policy or plan (latest revision)\"].value_counts()"
   ]
  },
  {
   "cell_type": "code",
   "execution_count": 15,
   "metadata": {},
   "outputs": [
    {
     "data": {
      "text/plain": [
       "count    78.000000\n",
       "mean      3.717949\n",
       "std       3.608854\n",
       "min       0.000000\n",
       "25%       1.100000\n",
       "50%       2.700000\n",
       "75%       5.525000\n",
       "max      19.500000\n",
       "Name: Government expenditures on mental hospitals as a percentage of total government expenditures on mental health (%), dtype: float64"
      ]
     },
     "execution_count": 15,
     "metadata": {},
     "output_type": "execute_result"
    }
   ],
   "source": [
    "mental_df[\"Government expenditures on mental hospitals\" +\n",
    "          \" as a percentage of total government expenditures on mental health (%)\"].describe()"
   ]
  },
  {
   "cell_type": "markdown",
   "metadata": {},
   "source": [
    "## Choosing the Columns of interest"
   ]
  },
  {
   "cell_type": "code",
   "execution_count": 16,
   "metadata": {},
   "outputs": [
    {
     "data": {
      "text/plain": [
       "Index(['Unnamed: 0', 'citation_abstract', 'citation_author',\n",
       "       'citation_author_email', 'citation_author_institution', 'citation_date',\n",
       "       'citation_doi', 'citation_issn', 'citation_journal_abbrev',\n",
       "       'citation_journal_title', 'citation_keywords', 'citation_language',\n",
       "       'citation_online_date', 'citation_pages', 'citation_pdf_url',\n",
       "       'citation_publication_date', 'citation_publisher', 'citation_title',\n",
       "       'citation_volume', 'dc.identifier', 'description', 'img', 'keywords',\n",
       "       'text', 'title', 'url'],\n",
       "      dtype='object')"
      ]
     },
     "execution_count": 16,
     "metadata": {},
     "output_type": "execute_result"
    }
   ],
   "source": [
    "neuro_df.columns"
   ]
  },
  {
   "cell_type": "code",
   "execution_count": 17,
   "metadata": {},
   "outputs": [],
   "source": [
    "neuro_df = neuro_df[[\"title\",\"citation_author\",\"citation_date\",\\\n",
    "                             \"citation_journal_title\",\"description\",\"keywords\",]]"
   ]
  },
  {
   "cell_type": "code",
   "execution_count": 18,
   "metadata": {},
   "outputs": [
    {
     "data": {
      "text/html": [
       "<div>\n",
       "<style scoped>\n",
       "    .dataframe tbody tr th:only-of-type {\n",
       "        vertical-align: middle;\n",
       "    }\n",
       "\n",
       "    .dataframe tbody tr th {\n",
       "        vertical-align: top;\n",
       "    }\n",
       "\n",
       "    .dataframe thead th {\n",
       "        text-align: right;\n",
       "    }\n",
       "</style>\n",
       "<table border=\"1\" class=\"dataframe\">\n",
       "  <thead>\n",
       "    <tr style=\"text-align: right;\">\n",
       "      <th></th>\n",
       "      <th>title</th>\n",
       "      <th>citation_author</th>\n",
       "      <th>citation_date</th>\n",
       "      <th>citation_journal_title</th>\n",
       "      <th>description</th>\n",
       "      <th>keywords</th>\n",
       "    </tr>\n",
       "  </thead>\n",
       "  <tbody>\n",
       "    <tr>\n",
       "      <th>0</th>\n",
       "      <td>HUMAN MUSCLE PROGENITOR CELLS OVEREXPRESSING N...</td>\n",
       "      <td>Offen, Daniel</td>\n",
       "      <td>2019.0</td>\n",
       "      <td>Frontiers in Neuroscience</td>\n",
       "      <td>The peripheral nervous system has an intrinsic...</td>\n",
       "      <td>Human muscle progenitor cells; Neurotrophic fa...</td>\n",
       "    </tr>\n",
       "    <tr>\n",
       "      <th>1</th>\n",
       "      <td>The Functional Role of Striatal Cholinergic In...</td>\n",
       "      <td>Molkov, Yaroslav I.</td>\n",
       "      <td>2019.0</td>\n",
       "      <td>Frontiers in Neural Circuits</td>\n",
       "      <td>In this study, we explore the functional role ...</td>\n",
       "      <td>Striatum; Basal Ganglia; Reinforcement   Learn...</td>\n",
       "    </tr>\n",
       "    <tr>\n",
       "      <th>2</th>\n",
       "      <td>Iron Metabolism of the Skeletal Muscle and Neu...</td>\n",
       "      <td>Herman-Antosiewicz, Anna</td>\n",
       "      <td>2019.0</td>\n",
       "      <td>Frontiers in Neuroscience</td>\n",
       "      <td>Recent studies clearly indicate that endocrine...</td>\n",
       "      <td>myokine, ; Iron,; ALS, amyotrophic lateral scl...</td>\n",
       "    </tr>\n",
       "    <tr>\n",
       "      <th>3</th>\n",
       "      <td>Brain Map of Intrinsic Functional Flexibility ...</td>\n",
       "      <td>Wang, Zheng</td>\n",
       "      <td>2019.0</td>\n",
       "      <td>Frontiers in Neuroscience</td>\n",
       "      <td>Emerging neuroimaging studies emphasize the dy...</td>\n",
       "      <td>dynamic brain organization; intrinsic function...</td>\n",
       "    </tr>\n",
       "    <tr>\n",
       "      <th>4</th>\n",
       "      <td>Low CSF melanotransferrin is associated with c...</td>\n",
       "      <td>So, Po-Wah</td>\n",
       "      <td>2019.0</td>\n",
       "      <td>Frontiers in Neuroscience</td>\n",
       "      <td>The disruption of iron metabolism and iron tra...</td>\n",
       "      <td>Alzheimer’s disease; CSF; Iron; MCI; Melanotra...</td>\n",
       "    </tr>\n",
       "  </tbody>\n",
       "</table>\n",
       "</div>"
      ],
      "text/plain": [
       "                                               title  \\\n",
       "0  HUMAN MUSCLE PROGENITOR CELLS OVEREXPRESSING N...   \n",
       "1  The Functional Role of Striatal Cholinergic In...   \n",
       "2  Iron Metabolism of the Skeletal Muscle and Neu...   \n",
       "3  Brain Map of Intrinsic Functional Flexibility ...   \n",
       "4  Low CSF melanotransferrin is associated with c...   \n",
       "\n",
       "            citation_author  citation_date        citation_journal_title  \\\n",
       "0             Offen, Daniel         2019.0     Frontiers in Neuroscience   \n",
       "1       Molkov, Yaroslav I.         2019.0  Frontiers in Neural Circuits   \n",
       "2  Herman-Antosiewicz, Anna         2019.0     Frontiers in Neuroscience   \n",
       "3               Wang, Zheng         2019.0     Frontiers in Neuroscience   \n",
       "4                So, Po-Wah         2019.0     Frontiers in Neuroscience   \n",
       "\n",
       "                                         description  \\\n",
       "0  The peripheral nervous system has an intrinsic...   \n",
       "1  In this study, we explore the functional role ...   \n",
       "2  Recent studies clearly indicate that endocrine...   \n",
       "3  Emerging neuroimaging studies emphasize the dy...   \n",
       "4  The disruption of iron metabolism and iron tra...   \n",
       "\n",
       "                                            keywords  \n",
       "0  Human muscle progenitor cells; Neurotrophic fa...  \n",
       "1  Striatum; Basal Ganglia; Reinforcement   Learn...  \n",
       "2  myokine, ; Iron,; ALS, amyotrophic lateral scl...  \n",
       "3  dynamic brain organization; intrinsic function...  \n",
       "4  Alzheimer’s disease; CSF; Iron; MCI; Melanotra...  "
      ]
     },
     "execution_count": 18,
     "metadata": {},
     "output_type": "execute_result"
    }
   ],
   "source": [
    "neuro_df.head()"
   ]
  },
  {
   "cell_type": "code",
   "execution_count": 19,
   "metadata": {},
   "outputs": [],
   "source": [
    "#I think all the columns in this dataset are relevant!\n",
    "\n",
    "mental_df = mental_df"
   ]
  },
  {
   "cell_type": "code",
   "execution_count": 20,
   "metadata": {},
   "outputs": [
    {
     "data": {
      "text/html": [
       "<div>\n",
       "<style scoped>\n",
       "    .dataframe tbody tr th:only-of-type {\n",
       "        vertical-align: middle;\n",
       "    }\n",
       "\n",
       "    .dataframe tbody tr th {\n",
       "        vertical-align: top;\n",
       "    }\n",
       "\n",
       "    .dataframe thead th {\n",
       "        text-align: right;\n",
       "    }\n",
       "</style>\n",
       "<table border=\"1\" class=\"dataframe\">\n",
       "  <thead>\n",
       "    <tr style=\"text-align: right;\">\n",
       "      <th></th>\n",
       "      <th>Country; Year</th>\n",
       "      <th>Government expenditures on mental hospitals as a percentage of total government expenditures on mental health (%)</th>\n",
       "      <th>Stand-alone law for mental health</th>\n",
       "      <th>Year the law was enacted (latest revision)</th>\n",
       "      <th>Stand-alone policy or plan for mental health</th>\n",
       "      <th>Publication year of the policy or plan (latest revision)</th>\n",
       "    </tr>\n",
       "  </thead>\n",
       "  <tbody>\n",
       "    <tr>\n",
       "      <th>0</th>\n",
       "      <td>Afghanistan; 2016</td>\n",
       "      <td>NaN</td>\n",
       "      <td>Yes</td>\n",
       "      <td>1987</td>\n",
       "      <td>Yes</td>\n",
       "      <td>2016.0</td>\n",
       "    </tr>\n",
       "    <tr>\n",
       "      <th>1</th>\n",
       "      <td>Afghanistan; 2014</td>\n",
       "      <td>NaN</td>\n",
       "      <td>Yes</td>\n",
       "      <td>NaN</td>\n",
       "      <td>Yes</td>\n",
       "      <td>NaN</td>\n",
       "    </tr>\n",
       "    <tr>\n",
       "      <th>2</th>\n",
       "      <td>Albania; 2016</td>\n",
       "      <td>NaN</td>\n",
       "      <td>Yes</td>\n",
       "      <td>2012</td>\n",
       "      <td>Yes</td>\n",
       "      <td>2013.0</td>\n",
       "    </tr>\n",
       "    <tr>\n",
       "      <th>3</th>\n",
       "      <td>Albania; 2014</td>\n",
       "      <td>NaN</td>\n",
       "      <td>Yes</td>\n",
       "      <td>NaN</td>\n",
       "      <td>Yes</td>\n",
       "      <td>NaN</td>\n",
       "    </tr>\n",
       "    <tr>\n",
       "      <th>4</th>\n",
       "      <td>Algeria; 2016</td>\n",
       "      <td>NaN</td>\n",
       "      <td>Yes</td>\n",
       "      <td>1905</td>\n",
       "      <td>No</td>\n",
       "      <td>NaN</td>\n",
       "    </tr>\n",
       "  </tbody>\n",
       "</table>\n",
       "</div>"
      ],
      "text/plain": [
       "       Country; Year  \\\n",
       "0  Afghanistan; 2016   \n",
       "1  Afghanistan; 2014   \n",
       "2      Albania; 2016   \n",
       "3      Albania; 2014   \n",
       "4      Algeria; 2016   \n",
       "\n",
       "   Government expenditures on mental hospitals as a percentage of total government expenditures on mental health (%)  \\\n",
       "0                                                NaN                                                                   \n",
       "1                                                NaN                                                                   \n",
       "2                                                NaN                                                                   \n",
       "3                                                NaN                                                                   \n",
       "4                                                NaN                                                                   \n",
       "\n",
       "  Stand-alone law for mental health  \\\n",
       "0                               Yes   \n",
       "1                               Yes   \n",
       "2                               Yes   \n",
       "3                               Yes   \n",
       "4                               Yes   \n",
       "\n",
       "  Year the law was enacted (latest revision)  \\\n",
       "0                                       1987   \n",
       "1                                        NaN   \n",
       "2                                       2012   \n",
       "3                                        NaN   \n",
       "4                                       1905   \n",
       "\n",
       "  Stand-alone policy or plan for mental health  \\\n",
       "0                                          Yes   \n",
       "1                                          Yes   \n",
       "2                                          Yes   \n",
       "3                                          Yes   \n",
       "4                                           No   \n",
       "\n",
       "   Publication year of the policy or plan (latest revision)  \n",
       "0                                             2016.0         \n",
       "1                                                NaN         \n",
       "2                                             2013.0         \n",
       "3                                                NaN         \n",
       "4                                                NaN         "
      ]
     },
     "execution_count": 20,
     "metadata": {},
     "output_type": "execute_result"
    }
   ],
   "source": [
    "mental_df.head()"
   ]
  },
  {
   "cell_type": "markdown",
   "metadata": {},
   "source": [
    "## Data Cleaning"
   ]
  },
  {
   "cell_type": "code",
   "execution_count": 23,
   "metadata": {},
   "outputs": [
    {
     "data": {
      "text/plain": [
       "Yes      208\n",
       "No       126\n",
       "Yes        2\n",
       "yes        1\n",
       "No No      1\n",
       "2018       1\n",
       "No         1\n",
       "Name: Stand-alone law for mental health, dtype: int64"
      ]
     },
     "execution_count": 23,
     "metadata": {},
     "output_type": "execute_result"
    }
   ],
   "source": [
    "mental_df[\"Stand-alone law for mental health\"].value_counts()"
   ]
  },
  {
   "cell_type": "code",
   "execution_count": 24,
   "metadata": {},
   "outputs": [
    {
     "ename": "TypeError",
     "evalue": "cannot compare a dtyped [object] array with a scalar of type [bool]",
     "output_type": "error",
     "traceback": [
      "\u001b[1;31m---------------------------------------------------------------------------\u001b[0m",
      "\u001b[1;31mTypeError\u001b[0m                                 Traceback (most recent call last)",
      "\u001b[1;32m~\\Anaconda3\\lib\\site-packages\\pandas\\core\\ops.py\u001b[0m in \u001b[0;36mna_op\u001b[1;34m(x, y)\u001b[0m\n\u001b[0;32m   1788\u001b[0m         \u001b[1;32mtry\u001b[0m\u001b[1;33m:\u001b[0m\u001b[1;33m\u001b[0m\u001b[1;33m\u001b[0m\u001b[0m\n\u001b[1;32m-> 1789\u001b[1;33m             \u001b[0mresult\u001b[0m \u001b[1;33m=\u001b[0m \u001b[0mop\u001b[0m\u001b[1;33m(\u001b[0m\u001b[0mx\u001b[0m\u001b[1;33m,\u001b[0m \u001b[0my\u001b[0m\u001b[1;33m)\u001b[0m\u001b[1;33m\u001b[0m\u001b[1;33m\u001b[0m\u001b[0m\n\u001b[0m\u001b[0;32m   1790\u001b[0m         \u001b[1;32mexcept\u001b[0m \u001b[0mTypeError\u001b[0m\u001b[1;33m:\u001b[0m\u001b[1;33m\u001b[0m\u001b[1;33m\u001b[0m\u001b[0m\n",
      "\u001b[1;32m~\\Anaconda3\\lib\\site-packages\\pandas\\core\\ops.py\u001b[0m in \u001b[0;36mror_\u001b[1;34m(left, right)\u001b[0m\n\u001b[0;32m    190\u001b[0m \u001b[1;32mdef\u001b[0m \u001b[0mror_\u001b[0m\u001b[1;33m(\u001b[0m\u001b[0mleft\u001b[0m\u001b[1;33m,\u001b[0m \u001b[0mright\u001b[0m\u001b[1;33m)\u001b[0m\u001b[1;33m:\u001b[0m\u001b[1;33m\u001b[0m\u001b[1;33m\u001b[0m\u001b[0m\n\u001b[1;32m--> 191\u001b[1;33m     \u001b[1;32mreturn\u001b[0m \u001b[0moperator\u001b[0m\u001b[1;33m.\u001b[0m\u001b[0mor_\u001b[0m\u001b[1;33m(\u001b[0m\u001b[0mright\u001b[0m\u001b[1;33m,\u001b[0m \u001b[0mleft\u001b[0m\u001b[1;33m)\u001b[0m\u001b[1;33m\u001b[0m\u001b[1;33m\u001b[0m\u001b[0m\n\u001b[0m\u001b[0;32m    192\u001b[0m \u001b[1;33m\u001b[0m\u001b[0m\n",
      "\u001b[1;31mTypeError\u001b[0m: unsupported operand type(s) for |: 'str' and 'str'",
      "\nDuring handling of the above exception, another exception occurred:\n",
      "\u001b[1;31mTypeError\u001b[0m                                 Traceback (most recent call last)",
      "\u001b[1;32m~\\Anaconda3\\lib\\site-packages\\pandas\\core\\ops.py\u001b[0m in \u001b[0;36mna_op\u001b[1;34m(x, y)\u001b[0m\n\u001b[0;32m   1803\u001b[0m                 \u001b[1;32mtry\u001b[0m\u001b[1;33m:\u001b[0m\u001b[1;33m\u001b[0m\u001b[1;33m\u001b[0m\u001b[0m\n\u001b[1;32m-> 1804\u001b[1;33m                     \u001b[0mresult\u001b[0m \u001b[1;33m=\u001b[0m \u001b[0mlibops\u001b[0m\u001b[1;33m.\u001b[0m\u001b[0mscalar_binop\u001b[0m\u001b[1;33m(\u001b[0m\u001b[0mx\u001b[0m\u001b[1;33m,\u001b[0m \u001b[0my\u001b[0m\u001b[1;33m,\u001b[0m \u001b[0mop\u001b[0m\u001b[1;33m)\u001b[0m\u001b[1;33m\u001b[0m\u001b[1;33m\u001b[0m\u001b[0m\n\u001b[0m\u001b[0;32m   1805\u001b[0m                 except (TypeError, ValueError, AttributeError,\n",
      "\u001b[1;32mpandas/_libs/ops.pyx\u001b[0m in \u001b[0;36mpandas._libs.ops.scalar_binop\u001b[1;34m()\u001b[0m\n",
      "\u001b[1;32m~\\Anaconda3\\lib\\site-packages\\pandas\\core\\ops.py\u001b[0m in \u001b[0;36mror_\u001b[1;34m(left, right)\u001b[0m\n\u001b[0;32m    190\u001b[0m \u001b[1;32mdef\u001b[0m \u001b[0mror_\u001b[0m\u001b[1;33m(\u001b[0m\u001b[0mleft\u001b[0m\u001b[1;33m,\u001b[0m \u001b[0mright\u001b[0m\u001b[1;33m)\u001b[0m\u001b[1;33m:\u001b[0m\u001b[1;33m\u001b[0m\u001b[1;33m\u001b[0m\u001b[0m\n\u001b[1;32m--> 191\u001b[1;33m     \u001b[1;32mreturn\u001b[0m \u001b[0moperator\u001b[0m\u001b[1;33m.\u001b[0m\u001b[0mor_\u001b[0m\u001b[1;33m(\u001b[0m\u001b[0mright\u001b[0m\u001b[1;33m,\u001b[0m \u001b[0mleft\u001b[0m\u001b[1;33m)\u001b[0m\u001b[1;33m\u001b[0m\u001b[1;33m\u001b[0m\u001b[0m\n\u001b[0m\u001b[0;32m    192\u001b[0m \u001b[1;33m\u001b[0m\u001b[0m\n",
      "\u001b[1;31mTypeError\u001b[0m: unsupported operand type(s) for |: 'bool' and 'str'",
      "\nDuring handling of the above exception, another exception occurred:\n",
      "\u001b[1;31mTypeError\u001b[0m                                 Traceback (most recent call last)",
      "\u001b[1;32m<ipython-input-24-18455c56e1e1>\u001b[0m in \u001b[0;36m<module>\u001b[1;34m\u001b[0m\n\u001b[0;32m      1\u001b[0m mental_df.loc[mental_df[\"Stand-alone law for mental health\"] != \"Yes\" | \\\n\u001b[1;32m----> 2\u001b[1;33m               mental_df[\"Stand-alone law for mental health\"] != \"No\"].value_counts()\n\u001b[0m",
      "\u001b[1;32m~\\Anaconda3\\lib\\site-packages\\pandas\\core\\ops.py\u001b[0m in \u001b[0;36mwrapper\u001b[1;34m(self, other)\u001b[0m\n\u001b[0;32m   1848\u001b[0m         filler = (fill_int if is_self_int_dtype and is_other_int_dtype\n\u001b[0;32m   1849\u001b[0m                   else fill_bool)\n\u001b[1;32m-> 1850\u001b[1;33m         \u001b[0mres_values\u001b[0m \u001b[1;33m=\u001b[0m \u001b[0mna_op\u001b[0m\u001b[1;33m(\u001b[0m\u001b[0mself\u001b[0m\u001b[1;33m.\u001b[0m\u001b[0mvalues\u001b[0m\u001b[1;33m,\u001b[0m \u001b[0movalues\u001b[0m\u001b[1;33m)\u001b[0m\u001b[1;33m\u001b[0m\u001b[1;33m\u001b[0m\u001b[0m\n\u001b[0m\u001b[0;32m   1851\u001b[0m         unfilled = self._constructor(res_values,\n\u001b[0;32m   1852\u001b[0m                                      index=self.index, name=res_name)\n",
      "\u001b[1;32m~\\Anaconda3\\lib\\site-packages\\pandas\\core\\ops.py\u001b[0m in \u001b[0;36mna_op\u001b[1;34m(x, y)\u001b[0m\n\u001b[0;32m   1808\u001b[0m                                     \u001b[1;34m\"with a scalar of type [{typ}]\"\u001b[0m\u001b[1;33m\u001b[0m\u001b[1;33m\u001b[0m\u001b[0m\n\u001b[0;32m   1809\u001b[0m                                     .format(dtype=x.dtype,\n\u001b[1;32m-> 1810\u001b[1;33m                                             typ=type(y).__name__))\n\u001b[0m\u001b[0;32m   1811\u001b[0m \u001b[1;33m\u001b[0m\u001b[0m\n\u001b[0;32m   1812\u001b[0m         \u001b[1;32mreturn\u001b[0m \u001b[0mresult\u001b[0m\u001b[1;33m\u001b[0m\u001b[1;33m\u001b[0m\u001b[0m\n",
      "\u001b[1;31mTypeError\u001b[0m: cannot compare a dtyped [object] array with a scalar of type [bool]"
     ]
    }
   ],
   "source": [
    "mental_df.loc[mental_df[\"Stand-alone law for mental health\"] != \"Yes\" | \\\n",
    "              mental_df[\"Stand-alone law for mental health\"] != \"No\"].value_counts()"
   ]
  },
  {
   "cell_type": "code",
   "execution_count": null,
   "metadata": {},
   "outputs": [],
   "source": []
  },
  {
   "cell_type": "code",
   "execution_count": null,
   "metadata": {},
   "outputs": [],
   "source": []
  },
  {
   "cell_type": "code",
   "execution_count": 25,
   "metadata": {},
   "outputs": [
    {
     "data": {
      "text/plain": [
       "Yes        268\n",
       "No          73\n",
       "YES          1\n",
       "Yes Yes      1\n",
       "Name: Stand-alone policy or plan for mental health, dtype: int64"
      ]
     },
     "execution_count": 25,
     "metadata": {},
     "output_type": "execute_result"
    }
   ],
   "source": [
    "mental_df[\"Stand-alone policy or plan for mental health\"].value_counts()"
   ]
  },
  {
   "cell_type": "code",
   "execution_count": 26,
   "metadata": {},
   "outputs": [
    {
     "ename": "TypeError",
     "evalue": "cannot compare a dtyped [object] array with a scalar of type [bool]",
     "output_type": "error",
     "traceback": [
      "\u001b[1;31m---------------------------------------------------------------------------\u001b[0m",
      "\u001b[1;31mTypeError\u001b[0m                                 Traceback (most recent call last)",
      "\u001b[1;32m~\\Anaconda3\\lib\\site-packages\\pandas\\core\\ops.py\u001b[0m in \u001b[0;36mna_op\u001b[1;34m(x, y)\u001b[0m\n\u001b[0;32m   1788\u001b[0m         \u001b[1;32mtry\u001b[0m\u001b[1;33m:\u001b[0m\u001b[1;33m\u001b[0m\u001b[1;33m\u001b[0m\u001b[0m\n\u001b[1;32m-> 1789\u001b[1;33m             \u001b[0mresult\u001b[0m \u001b[1;33m=\u001b[0m \u001b[0mop\u001b[0m\u001b[1;33m(\u001b[0m\u001b[0mx\u001b[0m\u001b[1;33m,\u001b[0m \u001b[0my\u001b[0m\u001b[1;33m)\u001b[0m\u001b[1;33m\u001b[0m\u001b[1;33m\u001b[0m\u001b[0m\n\u001b[0m\u001b[0;32m   1790\u001b[0m         \u001b[1;32mexcept\u001b[0m \u001b[0mTypeError\u001b[0m\u001b[1;33m:\u001b[0m\u001b[1;33m\u001b[0m\u001b[1;33m\u001b[0m\u001b[0m\n",
      "\u001b[1;32m~\\Anaconda3\\lib\\site-packages\\pandas\\core\\ops.py\u001b[0m in \u001b[0;36mror_\u001b[1;34m(left, right)\u001b[0m\n\u001b[0;32m    190\u001b[0m \u001b[1;32mdef\u001b[0m \u001b[0mror_\u001b[0m\u001b[1;33m(\u001b[0m\u001b[0mleft\u001b[0m\u001b[1;33m,\u001b[0m \u001b[0mright\u001b[0m\u001b[1;33m)\u001b[0m\u001b[1;33m:\u001b[0m\u001b[1;33m\u001b[0m\u001b[1;33m\u001b[0m\u001b[0m\n\u001b[1;32m--> 191\u001b[1;33m     \u001b[1;32mreturn\u001b[0m \u001b[0moperator\u001b[0m\u001b[1;33m.\u001b[0m\u001b[0mor_\u001b[0m\u001b[1;33m(\u001b[0m\u001b[0mright\u001b[0m\u001b[1;33m,\u001b[0m \u001b[0mleft\u001b[0m\u001b[1;33m)\u001b[0m\u001b[1;33m\u001b[0m\u001b[1;33m\u001b[0m\u001b[0m\n\u001b[0m\u001b[0;32m    192\u001b[0m \u001b[1;33m\u001b[0m\u001b[0m\n",
      "\u001b[1;31mTypeError\u001b[0m: unsupported operand type(s) for |: 'str' and 'str'",
      "\nDuring handling of the above exception, another exception occurred:\n",
      "\u001b[1;31mTypeError\u001b[0m                                 Traceback (most recent call last)",
      "\u001b[1;32m~\\Anaconda3\\lib\\site-packages\\pandas\\core\\ops.py\u001b[0m in \u001b[0;36mna_op\u001b[1;34m(x, y)\u001b[0m\n\u001b[0;32m   1803\u001b[0m                 \u001b[1;32mtry\u001b[0m\u001b[1;33m:\u001b[0m\u001b[1;33m\u001b[0m\u001b[1;33m\u001b[0m\u001b[0m\n\u001b[1;32m-> 1804\u001b[1;33m                     \u001b[0mresult\u001b[0m \u001b[1;33m=\u001b[0m \u001b[0mlibops\u001b[0m\u001b[1;33m.\u001b[0m\u001b[0mscalar_binop\u001b[0m\u001b[1;33m(\u001b[0m\u001b[0mx\u001b[0m\u001b[1;33m,\u001b[0m \u001b[0my\u001b[0m\u001b[1;33m,\u001b[0m \u001b[0mop\u001b[0m\u001b[1;33m)\u001b[0m\u001b[1;33m\u001b[0m\u001b[1;33m\u001b[0m\u001b[0m\n\u001b[0m\u001b[0;32m   1805\u001b[0m                 except (TypeError, ValueError, AttributeError,\n",
      "\u001b[1;32mpandas/_libs/ops.pyx\u001b[0m in \u001b[0;36mpandas._libs.ops.scalar_binop\u001b[1;34m()\u001b[0m\n",
      "\u001b[1;32m~\\Anaconda3\\lib\\site-packages\\pandas\\core\\ops.py\u001b[0m in \u001b[0;36mror_\u001b[1;34m(left, right)\u001b[0m\n\u001b[0;32m    190\u001b[0m \u001b[1;32mdef\u001b[0m \u001b[0mror_\u001b[0m\u001b[1;33m(\u001b[0m\u001b[0mleft\u001b[0m\u001b[1;33m,\u001b[0m \u001b[0mright\u001b[0m\u001b[1;33m)\u001b[0m\u001b[1;33m:\u001b[0m\u001b[1;33m\u001b[0m\u001b[1;33m\u001b[0m\u001b[0m\n\u001b[1;32m--> 191\u001b[1;33m     \u001b[1;32mreturn\u001b[0m \u001b[0moperator\u001b[0m\u001b[1;33m.\u001b[0m\u001b[0mor_\u001b[0m\u001b[1;33m(\u001b[0m\u001b[0mright\u001b[0m\u001b[1;33m,\u001b[0m \u001b[0mleft\u001b[0m\u001b[1;33m)\u001b[0m\u001b[1;33m\u001b[0m\u001b[1;33m\u001b[0m\u001b[0m\n\u001b[0m\u001b[0;32m    192\u001b[0m \u001b[1;33m\u001b[0m\u001b[0m\n",
      "\u001b[1;31mTypeError\u001b[0m: unsupported operand type(s) for |: 'bool' and 'str'",
      "\nDuring handling of the above exception, another exception occurred:\n",
      "\u001b[1;31mTypeError\u001b[0m                                 Traceback (most recent call last)",
      "\u001b[1;32m<ipython-input-26-44f7463f2963>\u001b[0m in \u001b[0;36m<module>\u001b[1;34m\u001b[0m\n\u001b[0;32m      1\u001b[0m mental_df.loc[mental_df[\"Stand-alone policy or plan for mental health\"] != \"Yes\" | \\\n\u001b[1;32m----> 2\u001b[1;33m               mental_df[\"Stand-alone policy or plan for mental health\"] != \"No\"]\n\u001b[0m",
      "\u001b[1;32m~\\Anaconda3\\lib\\site-packages\\pandas\\core\\ops.py\u001b[0m in \u001b[0;36mwrapper\u001b[1;34m(self, other)\u001b[0m\n\u001b[0;32m   1848\u001b[0m         filler = (fill_int if is_self_int_dtype and is_other_int_dtype\n\u001b[0;32m   1849\u001b[0m                   else fill_bool)\n\u001b[1;32m-> 1850\u001b[1;33m         \u001b[0mres_values\u001b[0m \u001b[1;33m=\u001b[0m \u001b[0mna_op\u001b[0m\u001b[1;33m(\u001b[0m\u001b[0mself\u001b[0m\u001b[1;33m.\u001b[0m\u001b[0mvalues\u001b[0m\u001b[1;33m,\u001b[0m \u001b[0movalues\u001b[0m\u001b[1;33m)\u001b[0m\u001b[1;33m\u001b[0m\u001b[1;33m\u001b[0m\u001b[0m\n\u001b[0m\u001b[0;32m   1851\u001b[0m         unfilled = self._constructor(res_values,\n\u001b[0;32m   1852\u001b[0m                                      index=self.index, name=res_name)\n",
      "\u001b[1;32m~\\Anaconda3\\lib\\site-packages\\pandas\\core\\ops.py\u001b[0m in \u001b[0;36mna_op\u001b[1;34m(x, y)\u001b[0m\n\u001b[0;32m   1808\u001b[0m                                     \u001b[1;34m\"with a scalar of type [{typ}]\"\u001b[0m\u001b[1;33m\u001b[0m\u001b[1;33m\u001b[0m\u001b[0m\n\u001b[0;32m   1809\u001b[0m                                     .format(dtype=x.dtype,\n\u001b[1;32m-> 1810\u001b[1;33m                                             typ=type(y).__name__))\n\u001b[0m\u001b[0;32m   1811\u001b[0m \u001b[1;33m\u001b[0m\u001b[0m\n\u001b[0;32m   1812\u001b[0m         \u001b[1;32mreturn\u001b[0m \u001b[0mresult\u001b[0m\u001b[1;33m\u001b[0m\u001b[1;33m\u001b[0m\u001b[0m\n",
      "\u001b[1;31mTypeError\u001b[0m: cannot compare a dtyped [object] array with a scalar of type [bool]"
     ]
    }
   ],
   "source": [
    "mental_df.loc[mental_df[\"Stand-alone policy or plan for mental health\"] != \"Yes\" | \\\n",
    "              mental_df[\"Stand-alone policy or plan for mental health\"] != \"No\"]"
   ]
  },
  {
   "cell_type": "code",
   "execution_count": null,
   "metadata": {},
   "outputs": [],
   "source": []
  },
  {
   "cell_type": "code",
   "execution_count": 27,
   "metadata": {
    "scrolled": true
   },
   "outputs": [
    {
     "data": {
      "text/plain": [
       "Index(['title', 'citation_author', 'citation_date', 'citation_journal_title',\n",
       "       'description', 'keywords'],\n",
       "      dtype='object')"
      ]
     },
     "execution_count": 27,
     "metadata": {},
     "output_type": "execute_result"
    }
   ],
   "source": [
    "neuro_df.columns"
   ]
  },
  {
   "cell_type": "code",
   "execution_count": 28,
   "metadata": {},
   "outputs": [
    {
     "data": {
      "text/html": [
       "<div>\n",
       "<style scoped>\n",
       "    .dataframe tbody tr th:only-of-type {\n",
       "        vertical-align: middle;\n",
       "    }\n",
       "\n",
       "    .dataframe tbody tr th {\n",
       "        vertical-align: top;\n",
       "    }\n",
       "\n",
       "    .dataframe thead th {\n",
       "        text-align: right;\n",
       "    }\n",
       "</style>\n",
       "<table border=\"1\" class=\"dataframe\">\n",
       "  <thead>\n",
       "    <tr style=\"text-align: right;\">\n",
       "      <th></th>\n",
       "      <th>title</th>\n",
       "      <th>citation_author</th>\n",
       "      <th>citation_date</th>\n",
       "      <th>citation_journal_title</th>\n",
       "      <th>description</th>\n",
       "      <th>keywords</th>\n",
       "    </tr>\n",
       "  </thead>\n",
       "  <tbody>\n",
       "    <tr>\n",
       "      <th>0</th>\n",
       "      <td>HUMAN MUSCLE PROGENITOR CELLS OVEREXPRESSING N...</td>\n",
       "      <td>Offen, Daniel</td>\n",
       "      <td>2019.0</td>\n",
       "      <td>Frontiers in Neuroscience</td>\n",
       "      <td>The peripheral nervous system has an intrinsic...</td>\n",
       "      <td>Human muscle progenitor cells; Neurotrophic fa...</td>\n",
       "    </tr>\n",
       "    <tr>\n",
       "      <th>1</th>\n",
       "      <td>The Functional Role of Striatal Cholinergic In...</td>\n",
       "      <td>Molkov, Yaroslav I.</td>\n",
       "      <td>2019.0</td>\n",
       "      <td>Frontiers in Neural Circuits</td>\n",
       "      <td>In this study, we explore the functional role ...</td>\n",
       "      <td>Striatum; Basal Ganglia; Reinforcement   Learn...</td>\n",
       "    </tr>\n",
       "    <tr>\n",
       "      <th>2</th>\n",
       "      <td>Iron Metabolism of the Skeletal Muscle and Neu...</td>\n",
       "      <td>Herman-Antosiewicz, Anna</td>\n",
       "      <td>2019.0</td>\n",
       "      <td>Frontiers in Neuroscience</td>\n",
       "      <td>Recent studies clearly indicate that endocrine...</td>\n",
       "      <td>myokine, ; Iron,; ALS, amyotrophic lateral scl...</td>\n",
       "    </tr>\n",
       "    <tr>\n",
       "      <th>3</th>\n",
       "      <td>Brain Map of Intrinsic Functional Flexibility ...</td>\n",
       "      <td>Wang, Zheng</td>\n",
       "      <td>2019.0</td>\n",
       "      <td>Frontiers in Neuroscience</td>\n",
       "      <td>Emerging neuroimaging studies emphasize the dy...</td>\n",
       "      <td>dynamic brain organization; intrinsic function...</td>\n",
       "    </tr>\n",
       "    <tr>\n",
       "      <th>4</th>\n",
       "      <td>Low CSF melanotransferrin is associated with c...</td>\n",
       "      <td>So, Po-Wah</td>\n",
       "      <td>2019.0</td>\n",
       "      <td>Frontiers in Neuroscience</td>\n",
       "      <td>The disruption of iron metabolism and iron tra...</td>\n",
       "      <td>Alzheimer’s disease; CSF; Iron; MCI; Melanotra...</td>\n",
       "    </tr>\n",
       "  </tbody>\n",
       "</table>\n",
       "</div>"
      ],
      "text/plain": [
       "                                               title  \\\n",
       "0  HUMAN MUSCLE PROGENITOR CELLS OVEREXPRESSING N...   \n",
       "1  The Functional Role of Striatal Cholinergic In...   \n",
       "2  Iron Metabolism of the Skeletal Muscle and Neu...   \n",
       "3  Brain Map of Intrinsic Functional Flexibility ...   \n",
       "4  Low CSF melanotransferrin is associated with c...   \n",
       "\n",
       "            citation_author  citation_date        citation_journal_title  \\\n",
       "0             Offen, Daniel         2019.0     Frontiers in Neuroscience   \n",
       "1       Molkov, Yaroslav I.         2019.0  Frontiers in Neural Circuits   \n",
       "2  Herman-Antosiewicz, Anna         2019.0     Frontiers in Neuroscience   \n",
       "3               Wang, Zheng         2019.0     Frontiers in Neuroscience   \n",
       "4                So, Po-Wah         2019.0     Frontiers in Neuroscience   \n",
       "\n",
       "                                         description  \\\n",
       "0  The peripheral nervous system has an intrinsic...   \n",
       "1  In this study, we explore the functional role ...   \n",
       "2  Recent studies clearly indicate that endocrine...   \n",
       "3  Emerging neuroimaging studies emphasize the dy...   \n",
       "4  The disruption of iron metabolism and iron tra...   \n",
       "\n",
       "                                            keywords  \n",
       "0  Human muscle progenitor cells; Neurotrophic fa...  \n",
       "1  Striatum; Basal Ganglia; Reinforcement   Learn...  \n",
       "2  myokine, ; Iron,; ALS, amyotrophic lateral scl...  \n",
       "3  dynamic brain organization; intrinsic function...  \n",
       "4  Alzheimer’s disease; CSF; Iron; MCI; Melanotra...  "
      ]
     },
     "execution_count": 28,
     "metadata": {},
     "output_type": "execute_result"
    }
   ],
   "source": [
    "neuro_df.head()"
   ]
  },
  {
   "cell_type": "code",
   "execution_count": 29,
   "metadata": {},
   "outputs": [
    {
     "data": {
      "text/html": [
       "<div>\n",
       "<style scoped>\n",
       "    .dataframe tbody tr th:only-of-type {\n",
       "        vertical-align: middle;\n",
       "    }\n",
       "\n",
       "    .dataframe tbody tr th {\n",
       "        vertical-align: top;\n",
       "    }\n",
       "\n",
       "    .dataframe thead th {\n",
       "        text-align: right;\n",
       "    }\n",
       "</style>\n",
       "<table border=\"1\" class=\"dataframe\">\n",
       "  <thead>\n",
       "    <tr style=\"text-align: right;\">\n",
       "      <th></th>\n",
       "      <th>Country; Year</th>\n",
       "      <th>Government expenditures on mental hospitals as a percentage of total government expenditures on mental health (%)</th>\n",
       "      <th>Stand-alone law for mental health</th>\n",
       "      <th>Year the law was enacted (latest revision)</th>\n",
       "      <th>Stand-alone policy or plan for mental health</th>\n",
       "      <th>Publication year of the policy or plan (latest revision)</th>\n",
       "    </tr>\n",
       "  </thead>\n",
       "  <tbody>\n",
       "    <tr>\n",
       "      <th>0</th>\n",
       "      <td>Afghanistan; 2016</td>\n",
       "      <td>NaN</td>\n",
       "      <td>Yes</td>\n",
       "      <td>1987</td>\n",
       "      <td>Yes</td>\n",
       "      <td>2016.0</td>\n",
       "    </tr>\n",
       "    <tr>\n",
       "      <th>1</th>\n",
       "      <td>Afghanistan; 2014</td>\n",
       "      <td>NaN</td>\n",
       "      <td>Yes</td>\n",
       "      <td>NaN</td>\n",
       "      <td>Yes</td>\n",
       "      <td>NaN</td>\n",
       "    </tr>\n",
       "    <tr>\n",
       "      <th>2</th>\n",
       "      <td>Albania; 2016</td>\n",
       "      <td>NaN</td>\n",
       "      <td>Yes</td>\n",
       "      <td>2012</td>\n",
       "      <td>Yes</td>\n",
       "      <td>2013.0</td>\n",
       "    </tr>\n",
       "    <tr>\n",
       "      <th>3</th>\n",
       "      <td>Albania; 2014</td>\n",
       "      <td>NaN</td>\n",
       "      <td>Yes</td>\n",
       "      <td>NaN</td>\n",
       "      <td>Yes</td>\n",
       "      <td>NaN</td>\n",
       "    </tr>\n",
       "    <tr>\n",
       "      <th>4</th>\n",
       "      <td>Algeria; 2016</td>\n",
       "      <td>NaN</td>\n",
       "      <td>Yes</td>\n",
       "      <td>1905</td>\n",
       "      <td>No</td>\n",
       "      <td>NaN</td>\n",
       "    </tr>\n",
       "  </tbody>\n",
       "</table>\n",
       "</div>"
      ],
      "text/plain": [
       "       Country; Year  \\\n",
       "0  Afghanistan; 2016   \n",
       "1  Afghanistan; 2014   \n",
       "2      Albania; 2016   \n",
       "3      Albania; 2014   \n",
       "4      Algeria; 2016   \n",
       "\n",
       "   Government expenditures on mental hospitals as a percentage of total government expenditures on mental health (%)  \\\n",
       "0                                                NaN                                                                   \n",
       "1                                                NaN                                                                   \n",
       "2                                                NaN                                                                   \n",
       "3                                                NaN                                                                   \n",
       "4                                                NaN                                                                   \n",
       "\n",
       "  Stand-alone law for mental health  \\\n",
       "0                               Yes   \n",
       "1                               Yes   \n",
       "2                               Yes   \n",
       "3                               Yes   \n",
       "4                               Yes   \n",
       "\n",
       "  Year the law was enacted (latest revision)  \\\n",
       "0                                       1987   \n",
       "1                                        NaN   \n",
       "2                                       2012   \n",
       "3                                        NaN   \n",
       "4                                       1905   \n",
       "\n",
       "  Stand-alone policy or plan for mental health  \\\n",
       "0                                          Yes   \n",
       "1                                          Yes   \n",
       "2                                          Yes   \n",
       "3                                          Yes   \n",
       "4                                           No   \n",
       "\n",
       "   Publication year of the policy or plan (latest revision)  \n",
       "0                                             2016.0         \n",
       "1                                                NaN         \n",
       "2                                             2013.0         \n",
       "3                                                NaN         \n",
       "4                                                NaN         "
      ]
     },
     "execution_count": 29,
     "metadata": {},
     "output_type": "execute_result"
    }
   ],
   "source": [
    "mental_df.head()"
   ]
  },
  {
   "cell_type": "code",
   "execution_count": 30,
   "metadata": {},
   "outputs": [
    {
     "data": {
      "text/plain": [
       "title                      object\n",
       "citation_author            object\n",
       "citation_date             float64\n",
       "citation_journal_title     object\n",
       "description                object\n",
       "keywords                   object\n",
       "dtype: object"
      ]
     },
     "execution_count": 30,
     "metadata": {},
     "output_type": "execute_result"
    }
   ],
   "source": [
    "neuro_df.dtypes"
   ]
  },
  {
   "cell_type": "markdown",
   "metadata": {},
   "source": [
    "## Get String Lengths"
   ]
  },
  {
   "cell_type": "code",
   "execution_count": 33,
   "metadata": {},
   "outputs": [],
   "source": [
    "def string_length(column):\n",
    "    length = []\n",
    "    for index in neuro_df[column]:\n",
    "        l1 = (len(str(index)))\n",
    "        length.append(l1)\n",
    "    print(f\"{column}: {max(length)}\")"
   ]
  },
  {
   "cell_type": "code",
   "execution_count": 35,
   "metadata": {},
   "outputs": [
    {
     "name": "stdout",
     "output_type": "stream",
     "text": [
      "title: 200\n",
      "citation_author: 51\n",
      "citation_journal_title: 39\n",
      "description: 2853\n",
      "keywords: 807\n"
     ]
    }
   ],
   "source": [
    "string_length(\"title\")\n",
    "string_length(\"citation_author\")\n",
    "string_length(\"citation_journal_title\")\n",
    "string_length(\"description\")\n",
    "string_length(\"keywords\")"
   ]
  },
  {
   "cell_type": "markdown",
   "metadata": {},
   "source": [
    "## SQL Connection"
   ]
  },
  {
   "cell_type": "code",
   "execution_count": 38,
   "metadata": {},
   "outputs": [],
   "source": [
    "eng = create_engine('postgresql+psycopg2://'+ username +':' + pgpass + '@' +host_loc + ':' + cred_port + '/' + db)\n",
    "conn = eng.connect()"
   ]
  },
  {
   "cell_type": "code",
   "execution_count": 39,
   "metadata": {},
   "outputs": [
    {
     "name": "stdout",
     "output_type": "stream",
     "text": [
      "['neuroscience', 'mental_health_pol']\n"
     ]
    }
   ],
   "source": [
    "print(eng.table_names())"
   ]
  },
  {
   "cell_type": "code",
   "execution_count": null,
   "metadata": {},
   "outputs": [],
   "source": []
  }
 ],
 "metadata": {
  "kernelspec": {
   "display_name": "Python 3",
   "language": "python",
   "name": "python3"
  },
  "language_info": {
   "codemirror_mode": {
    "name": "ipython",
    "version": 3
   },
   "file_extension": ".py",
   "mimetype": "text/x-python",
   "name": "python",
   "nbconvert_exporter": "python",
   "pygments_lexer": "ipython3",
   "version": "3.7.3"
  }
 },
 "nbformat": 4,
 "nbformat_minor": 2
}
